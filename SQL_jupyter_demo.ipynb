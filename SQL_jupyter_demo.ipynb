{
 "cells": [
  {
   "cell_type": "code",
   "execution_count": 3,
   "id": "1ea18d45",
   "metadata": {},
   "outputs": [],
   "source": [
    "%load_ext sql\n",
    "%sql sqlite:///People.db"
   ]
  },
  {
   "cell_type": "code",
   "execution_count": 4,
   "id": "e590452f",
   "metadata": {},
   "outputs": [],
   "source": [
    "import pandas as pd\n",
    "import sqlite3\n",
    "\n",
    "data = pd.read_csv ('Gradebook.csv')   \n",
    "df = pd.DataFrame(data)"
   ]
  },
  {
   "cell_type": "code",
   "execution_count": 5,
   "id": "f171159b",
   "metadata": {},
   "outputs": [],
   "source": [
    "res_data =[i for i in df.columns]"
   ]
  },
  {
   "cell_type": "code",
   "execution_count": null,
   "id": "dba5923d",
   "metadata": {},
   "outputs": [],
   "source": [
    "# %%sql\n",
    "# create table grade(StudentID int IDENTITY (1,1), F_name varchar(20), L_name varchar(20) ,Grade int)"
   ]
  },
  {
   "cell_type": "code",
   "execution_count": 7,
   "id": "53dfc4ee",
   "metadata": {},
   "outputs": [
    {
     "name": "stdout",
     "output_type": "stream",
     "text": [
      " * sqlite:///People.db\n",
      "Done.\n"
     ]
    },
    {
     "data": {
      "text/plain": [
       "[]"
      ]
     },
     "execution_count": 7,
     "metadata": {},
     "output_type": "execute_result"
    }
   ],
   "source": [
    "%%sql\n",
    "Drop Table grade"
   ]
  },
  {
   "cell_type": "code",
   "execution_count": null,
   "id": "61c7119f",
   "metadata": {},
   "outputs": [],
   "source": [
    " %%sql\n",
    " create table student(studentID int IDENTITY(1,1), name varchar(20), Age int, State varchar(2)) "
   ]
  },
  {
   "cell_type": "code",
   "execution_count": null,
   "id": "ef1b6345",
   "metadata": {},
   "outputs": [],
   "source": [
    "%%sql\n",
    "insert into student values(0,\"sandeep\", 20,\"KY\");\n",
    "insert into student values(1,\"sandeep\", 30,\"NH\");\n",
    "insert into student values(2,\"giri\", 10,\"TN\")\n"
   ]
  },
  {
   "cell_type": "code",
   "execution_count": null,
   "id": "2f8d1cf6",
   "metadata": {},
   "outputs": [],
   "source": [
    " %%sql\n",
    " create table classes(name varchar(20), Age int, State varchar(2)) "
   ]
  },
  {
   "cell_type": "code",
   "execution_count": null,
   "id": "f197e1b0",
   "metadata": {},
   "outputs": [],
   "source": [
    "%%sql\n",
    "select * from student "
   ]
  },
  {
   "cell_type": "code",
   "execution_count": null,
   "id": "1e3a4128",
   "metadata": {},
   "outputs": [],
   "source": [
    "%%sql\n",
    "ALTER TABLE student\n",
    "ADD Email varchar(255);"
   ]
  },
  {
   "cell_type": "code",
   "execution_count": null,
   "id": "d96f5ab0",
   "metadata": {},
   "outputs": [],
   "source": [
    "%%sql\n",
    "select * from student"
   ]
  },
  {
   "cell_type": "code",
   "execution_count": null,
   "id": "13ec6610",
   "metadata": {},
   "outputs": [],
   "source": [
    "%%sql\n",
    "UPDATE student\n",
    "SET name = \"Chesky\", Age = 23, State = \"KY\", Email = \"cheskynd@gmail.com\"\n",
    "WHERE StudentID == 0;"
   ]
  },
  {
   "cell_type": "code",
   "execution_count": null,
   "id": "9f0f8165",
   "metadata": {},
   "outputs": [],
   "source": [
    "%%sql \n",
    "select * from student"
   ]
  },
  {
   "cell_type": "code",
   "execution_count": null,
   "id": "4c93d348",
   "metadata": {},
   "outputs": [],
   "source": [
    "%%sql\n",
    "select * from resto_scores"
   ]
  },
  {
   "cell_type": "code",
   "execution_count": null,
   "id": "dbb8abe7",
   "metadata": {},
   "outputs": [],
   "source": []
  }
 ],
 "metadata": {
  "kernelspec": {
   "display_name": "Python 3 (ipykernel)",
   "language": "python",
   "name": "python3"
  },
  "language_info": {
   "codemirror_mode": {
    "name": "ipython",
    "version": 3
   },
   "file_extension": ".py",
   "mimetype": "text/x-python",
   "name": "python",
   "nbconvert_exporter": "python",
   "pygments_lexer": "ipython3",
   "version": "3.9.13"
  }
 },
 "nbformat": 4,
 "nbformat_minor": 5
}
