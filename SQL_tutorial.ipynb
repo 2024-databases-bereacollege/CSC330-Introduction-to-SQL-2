{
 "cells": [
  {
   "cell_type": "markdown",
   "id": "c1a43b96",
   "metadata": {},
   "source": [
    "- \"%load_ext sql\" is used to activate sql in Jupyter\n",
    "- \"%sql sqlite:///database_name.db\" is used to select the working database"
   ]
  },
  {
   "cell_type": "code",
   "execution_count": 24,
   "id": "5c594f08",
   "metadata": {},
   "outputs": [
    {
     "name": "stdout",
     "output_type": "stream",
     "text": [
      "The sql extension is already loaded. To reload it, use:\n",
      "  %reload_ext sql\n"
     ]
    }
   ],
   "source": [
    "%load_ext sql \n",
    "%sql sqlite:///chinook.db"
   ]
  },
  {
   "cell_type": "markdown",
   "id": "9696b2d9",
   "metadata": {},
   "source": [
    "- The command \"%%SQL\" is referenced before writing an SQL Command"
   ]
  },
  {
   "cell_type": "code",
   "execution_count": 25,
   "id": "fbcd3671",
   "metadata": {},
   "outputs": [
    {
     "name": "stdout",
     "output_type": "stream",
     "text": [
      " * sqlite:///chinook.db\n",
      "Done.\n"
     ]
    },
    {
     "data": {
      "text/html": [
       "<table>\n",
       "    <tr>\n",
       "        <th>InvoiceId</th>\n",
       "        <th>CustomerId</th>\n",
       "        <th>InvoiceDate</th>\n",
       "        <th>BillingAddress</th>\n",
       "        <th>BillingCity</th>\n",
       "        <th>BillingState</th>\n",
       "        <th>BillingCountry</th>\n",
       "        <th>BillingPostalCode</th>\n",
       "        <th>Total</th>\n",
       "    </tr>\n",
       "    <tr>\n",
       "        <td>299</td>\n",
       "        <td>26</td>\n",
       "        <td>2012-08-05 00:00:00</td>\n",
       "        <td>2211 W Berry Street</td>\n",
       "        <td>Fort Worth</td>\n",
       "        <td>TX</td>\n",
       "        <td>USA</td>\n",
       "        <td>76110</td>\n",
       "        <td>23.86</td>\n",
       "    </tr>\n",
       "    <tr>\n",
       "        <td>201</td>\n",
       "        <td>25</td>\n",
       "        <td>2011-05-29 00:00:00</td>\n",
       "        <td>319 N. Frances Street</td>\n",
       "        <td>Madison</td>\n",
       "        <td>WI</td>\n",
       "        <td>USA</td>\n",
       "        <td>53703</td>\n",
       "        <td>18.86</td>\n",
       "    </tr>\n",
       "    <tr>\n",
       "        <td>103</td>\n",
       "        <td>24</td>\n",
       "        <td>2010-03-21 00:00:00</td>\n",
       "        <td>162 E Superior Street</td>\n",
       "        <td>Chicago</td>\n",
       "        <td>IL</td>\n",
       "        <td>USA</td>\n",
       "        <td>60611</td>\n",
       "        <td>15.86</td>\n",
       "    </tr>\n",
       "    <tr>\n",
       "        <td>5</td>\n",
       "        <td>23</td>\n",
       "        <td>2009-01-11 00:00:00</td>\n",
       "        <td>69 Salem Street</td>\n",
       "        <td>Boston</td>\n",
       "        <td>MA</td>\n",
       "        <td>USA</td>\n",
       "        <td>2113</td>\n",
       "        <td>13.86</td>\n",
       "    </tr>\n",
       "    <tr>\n",
       "        <td>26</td>\n",
       "        <td>19</td>\n",
       "        <td>2009-04-14 00:00:00</td>\n",
       "        <td>1 Infinite Loop</td>\n",
       "        <td>Cupertino</td>\n",
       "        <td>CA</td>\n",
       "        <td>USA</td>\n",
       "        <td>95014</td>\n",
       "        <td>13.86</td>\n",
       "    </tr>\n",
       "</table>"
      ],
      "text/plain": [
       "[(299, 26, '2012-08-05 00:00:00', '2211 W Berry Street', 'Fort Worth', 'TX', 'USA', '76110', 23.86),\n",
       " (201, 25, '2011-05-29 00:00:00', '319 N. Frances Street', 'Madison', 'WI', 'USA', '53703', 18.86),\n",
       " (103, 24, '2010-03-21 00:00:00', '162 E Superior Street', 'Chicago', 'IL', 'USA', '60611', 15.86),\n",
       " (5, 23, '2009-01-11 00:00:00', '69 Salem Street', 'Boston', 'MA', 'USA', '2113', 13.86),\n",
       " (26, 19, '2009-04-14 00:00:00', '1 Infinite Loop', 'Cupertino', 'CA', 'USA', '95014', 13.86)]"
      ]
     },
     "execution_count": 25,
     "metadata": {},
     "output_type": "execute_result"
    }
   ],
   "source": [
    "%%sql \n",
    "Select * from invoices where BillingState != 'None' and BillingCountry == \"USA\"\n",
    "order by Total DESC\n",
    "limit 5;"
   ]
  },
  {
   "cell_type": "code",
   "execution_count": null,
   "id": "cca0ed83",
   "metadata": {},
   "outputs": [],
   "source": []
  }
 ],
 "metadata": {
  "kernelspec": {
   "display_name": "Python 3 (ipykernel)",
   "language": "python",
   "name": "python3"
  },
  "language_info": {
   "codemirror_mode": {
    "name": "ipython",
    "version": 3
   },
   "file_extension": ".py",
   "mimetype": "text/x-python",
   "name": "python",
   "nbconvert_exporter": "python",
   "pygments_lexer": "ipython3",
   "version": "3.9.13"
  }
 },
 "nbformat": 4,
 "nbformat_minor": 5
}
